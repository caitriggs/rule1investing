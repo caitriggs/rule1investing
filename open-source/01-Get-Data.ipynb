{
 "cells": [
  {
   "cell_type": "code",
   "execution_count": 1,
   "metadata": {},
   "outputs": [],
   "source": [
    "import json\n",
    "import requests"
   ]
  },
  {
   "cell_type": "code",
   "execution_count": 2,
   "metadata": {},
   "outputs": [],
   "source": [
    "with open('../config.json') as f:\n",
    "    creds = json.load(f)\n",
    "\n",
    "financial_api_key = creds['financial_api_key']"
   ]
  },
  {
   "cell_type": "markdown",
   "metadata": {},
   "source": [
    "# Get data\n",
    "In order to calculate the 4 Big Growth Rates, we'll pull the necessary data from the company's 10K using [Financial Modeling Prep's API](https://financialmodelingprep.com/developer/docs)"
   ]
  },
  {
   "cell_type": "code",
   "execution_count": 3,
   "metadata": {},
   "outputs": [],
   "source": [
    "company_tickers = ['DPZ','ALK','MAR','SONY','GME','JNJ']"
   ]
  },
  {
   "cell_type": "code",
   "execution_count": null,
   "metadata": {},
   "outputs": [],
   "source": [
    "def get_company_profile(ticker_symbol:str, apikey:str):\n",
    "    # Company Profile data\n",
    "    response = requests.get(f\"https://financialmodelingprep.com/api/v3/profile/{ticker_symbol}?apikey={apikey}\")\n",
    "    if response.status_code == 200:\n",
    "        data = json.dumps(response.json())\n",
    "    else: raise ValueError(f\"No data returned for call https://financialmodelingprep.com/api/v3/profile/{ticker_symbol}\")\n",
    "    return data\n",
    "\n",
    "def get_income_statements(ticker_symbol:str, apikey:str):\n",
    "    # Income Sheet Statement\n",
    "    response = requests.get(f\"https://financialmodelingprep.com/api/v3/income-statement/{ticker_symbol}?limit=5&apikey={apikey}\")\n",
    "    if response.status_code == 200:\n",
    "        data = json.dumps(response.json())\n",
    "    else: raise ValueError(f\"No data returned for call https://financialmodelingprep.com/api/v3/income-statement/{ticker_symbol}?limit=5\")\n",
    "    return data\n",
    "\n",
    "def get_balance_sheets(ticker_symbol:str, apikey:str):\n",
    "    # Balance Sheet Statement\n",
    "    response = requests.get(f\"https://financialmodelingprep.com/api/v3/balance-sheet-statement/{ticker_symbol}?limit=5&apikey={apikey}\")\n",
    "    if response.status_code == 200:\n",
    "        data = json.dumps(response.json())\n",
    "    else: raise ValueError(f\"No data returned for call https://financialmodelingprep.com/api/v3/balance-sheet-statement/{ticker_symbol}?limit=5\")\n",
    "    return data\n",
    "\n",
    "def get_cash_flow_statements(ticker_symbol:str, apikey:str):\n",
    "    # Cash Flow Statement\n",
    "    response = requests.get(f\"https://financialmodelingprep.com/api/v3/cash-flow-statement/{ticker_symbol}?limit=5&apikey={apikey}\")\n",
    "    if response.status_code == 200:\n",
    "        data = json.dumps(response.json())\n",
    "    else: raise ValueError(f\"No data returned for call https://financialmodelingprep.com/api/v3/cash-flow-statement/{ticker_symbol}?limit=5\")\n",
    "    return data\n",
    "        \n",
    "    "
   ]
  },
  {
   "cell_type": "code",
   "execution_count": 21,
   "metadata": {},
   "outputs": [],
   "source": [
    "# for each company ticker in our list, get data and upload to our azure blob storage container 'financial-data'\n",
    "for company in company_tickers:\n",
    "    data = get_company_profile(company, financial_api_key)\n",
    "    \n",
    "    get_income_statements(company, financial_api_key)\n",
    "    get_balance_sheets(company, financial_api_key)\n",
    "    get_cash_flow_statements(company, financial_api_key)\n"
   ]
  },
  {
   "cell_type": "code",
   "execution_count": null,
   "metadata": {},
   "outputs": [],
   "source": []
  }
 ],
 "metadata": {
  "interpreter": {
   "hash": "a549a46fa00e2520f1df4c0ebf4a977dd5062cebae41313fd1e7c167cdf4dee6"
  },
  "kernelspec": {
   "display_name": "Python [conda env:rule1investing]",
   "language": "python",
   "name": "python3"
  },
  "language_info": {
   "codemirror_mode": {
    "name": "ipython",
    "version": 3
   },
   "file_extension": ".py",
   "mimetype": "text/x-python",
   "name": "python",
   "nbconvert_exporter": "python",
   "pygments_lexer": "ipython3",
   "version": "3.7.12"
  }
 },
 "nbformat": 4,
 "nbformat_minor": 4
}
