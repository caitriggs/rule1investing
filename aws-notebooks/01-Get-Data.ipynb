{
 "cells": [
  {
   "cell_type": "code",
   "execution_count": null,
   "metadata": {},
   "outputs": [],
   "source": [
    "import json\n",
    "import requests\n",
    "import os\n",
    "\n",
    "import sagemaker\n",
    "import boto3"
   ]
  },
  {
   "cell_type": "markdown",
   "metadata": {},
   "source": [
    "# Connect to AWS Sagemaker Studio\n",
    "This method works if running notebook inside AWS Sagemaker Studio"
   ]
  },
  {
   "cell_type": "code",
   "execution_count": null,
   "metadata": {},
   "outputs": [],
   "source": [
    "s3client = boto3.client('s3')\n",
    "sess = sagemaker.Session()\n",
    "bucket = sess.default_bucket() \n",
    "folder_prefix = 'opensource-10k-data'\n",
    "print(f\"Default bucket: {bucket}\")"
   ]
  },
  {
   "cell_type": "code",
   "execution_count": null,
   "metadata": {},
   "outputs": [],
   "source": [
    "def upload_data(fileobject, folder_prefix, filename, bucket):\n",
    "    s3client.upload_file(fileobject, bucket, os.path.join(folder_prefix, filename))\n",
    "    "
   ]
  },
  {
   "cell_type": "markdown",
   "metadata": {},
   "source": [
    "# Get data\n",
    "In order to calculate the 4 Big Growth Rates, we'll pull the necessary data from the company's 10K using [Financial Modeling Prep's API](https://financialmodelingprep.com/developer/docs) and upload it to an AWS S3 bucket called \"financial-data\""
   ]
  },
  {
   "cell_type": "code",
   "execution_count": null,
   "metadata": {},
   "outputs": [],
   "source": [
    "company_tickers = ['DPZ','ALK','MAR','SONY','GME','JNJ','BMBL']"
   ]
  },
  {
   "cell_type": "code",
   "execution_count": null,
   "metadata": {},
   "outputs": [],
   "source": [
    "# read in credentials for API\n",
    "with open('config.json') as json_file:\n",
    "    creds = json.load(json_file)"
   ]
  },
  {
   "cell_type": "code",
   "execution_count": null,
   "metadata": {},
   "outputs": [],
   "source": [
    "os.makedirs('data/company_profiles') \n",
    "os.makedirs('data/income_sheets')\n",
    "os.makedirs('data/balance_sheets')\n",
    "os.makedirs('data/cash_flow_statements')"
   ]
  },
  {
   "cell_type": "code",
   "execution_count": null,
   "metadata": {},
   "outputs": [],
   "source": [
    "# for each company ticker in our list, get data and upload to our azure blob storage container 'financial-data'\n",
    "for company in company_tickers:\n",
    "    \n",
    "    # Company Profile\n",
    "    response = requests.get(\"https://financialmodelingprep.com/api/v3/profile/{}?apikey={}\".format(company, creds['fmp_api_key']))\n",
    "    if response.status_code == 200:\n",
    "        local_file_path = f'./data/company_profiles/{company}-profile.json'\n",
    "        with open(local_file_path, 'w') as outfile:\n",
    "            json.dump(response.json(), outfile)\n",
    "        upload_data(local_file_path, 'company_profiles', \"company_profile_{}.json\".format(company), bucket)\n",
    "    else:\n",
    "        print(response)\n",
    "        \n",
    "    # Income Sheet Statement\n",
    "    response = requests.get(\"https://financialmodelingprep.com/api/v3/income-statement/{}?limit=5&apikey={}\".format(company, creds['fmp_api_key']))\n",
    "    if response.status_code == 200:\n",
    "        local_file_path = f'./data/income_sheets/{company}-income.json'\n",
    "        with open(local_file_path, 'w') as outfile:\n",
    "            json.dump(response.json(), outfile)\n",
    "        upload_data(local_file_path, 'income_sheets', \"income_sheet_{}.json\".format(company), bucket)\n",
    "    else:\n",
    "        print(response)\n",
    "        \n",
    "    # Balance Sheet Statement\n",
    "    response = requests.get(\"https://financialmodelingprep.com/api/v3/balance-sheet-statement/{}?limit=5&apikey={}\".format(company, creds['fmp_api_key']))\n",
    "    if response.status_code == 200:\n",
    "        local_file_path = f'./data/balance_sheets/{company}-balance.json'\n",
    "        with open(local_file_path, 'w') as outfile:\n",
    "            json.dump(response.json(), outfile)\n",
    "        upload_data(local_file_path, 'balance_sheets', \"balance_sheet_{}.json\".format(company), bucket)\n",
    "    else:\n",
    "        print(response)    \n",
    "    \n",
    "    # Cash Flow Statement\n",
    "    response = requests.get(\"https://financialmodelingprep.com/api/v3/cash-flow-statement/{}?limit=5&apikey={}\".format(company, creds['fmp_api_key']))\n",
    "    if response.status_code == 200:\n",
    "        local_file_path = f'./data/cash_flow_statements/{company}-cashflow.json'\n",
    "        with open(local_file_path, 'w') as outfile:\n",
    "            json.dump(response.json(), outfile)\n",
    "        upload_data(local_file_path, 'cash_flow_statements', \"cash_flow_statement_{}.json\".format(company), bucket)      \n",
    "    else:\n",
    "        print(response)"
   ]
  },
  {
   "cell_type": "code",
   "execution_count": null,
   "metadata": {},
   "outputs": [],
   "source": []
  }
 ],
 "metadata": {
  "instance_type": "ml.t3.medium",
  "kernelspec": {
   "display_name": "Python 3 (Data Science)",
   "language": "python",
   "name": "python3__SAGEMAKER_INTERNAL__arn:aws:sagemaker:us-west-2:236514542706:image/datascience-1.0"
  },
  "language_info": {
   "codemirror_mode": {
    "name": "ipython",
    "version": 3
   },
   "file_extension": ".py",
   "mimetype": "text/x-python",
   "name": "python",
   "nbconvert_exporter": "python",
   "pygments_lexer": "ipython3",
   "version": "3.7.10"
  }
 },
 "nbformat": 4,
 "nbformat_minor": 4
}
