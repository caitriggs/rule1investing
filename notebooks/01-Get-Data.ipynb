{
 "cells": [
  {
   "cell_type": "code",
   "execution_count": 4,
   "metadata": {},
   "outputs": [],
   "source": [
    "import json\n",
    "from azureml.core.authentication import ServicePrincipalAuthentication\n",
    "from azureml.core import Workspace, Environment"
   ]
  },
  {
   "cell_type": "markdown",
   "metadata": {},
   "source": [
    "# Connect to Azure ML Workspace\n",
    "using our `azure-ml-adls` service principal"
   ]
  },
  {
   "cell_type": "code",
   "execution_count": 9,
   "metadata": {},
   "outputs": [
    {
     "name": "stdout",
     "output_type": "stream",
     "text": [
      "Found workspace cait-projects at location westus2\n"
     ]
    }
   ],
   "source": [
    "# import credentials saved in a local only file \n",
    "#    (can also use Azure Key Vault or environment variables for secure keys)\n",
    "with open('./config.json') as f:\n",
    "    creds = json.load(f)\n",
    "\n",
    "svc_pr = ServicePrincipalAuthentication(\n",
    "    tenant_id=creds['service_principal_tenant_id'],\n",
    "    service_principal_id=creds['service_principal_app_id'],\n",
    "    service_principal_password=creds['service_principal_password'])\n",
    "\n",
    "ws = Workspace(\n",
    "    subscription_id=creds['workspace_subscription_id'],\n",
    "    resource_group=creds['workspace_resource_group'],\n",
    "    workspace_name=creds['workspace_name'],\n",
    "    auth=svc_pr\n",
    "    )\n",
    "\n",
    "print(\"Found workspace {} at location {}\".format(ws.name, ws.location))"
   ]
  },
  {
   "cell_type": "markdown",
   "metadata": {},
   "source": []
  }
 ],
 "metadata": {
  "kernelspec": {
   "display_name": "Python [conda env:rule1investing]",
   "language": "python",
   "name": "conda-env-rule1investing-py"
  },
  "language_info": {
   "codemirror_mode": {
    "name": "ipython",
    "version": 3
   },
   "file_extension": ".py",
   "mimetype": "text/x-python",
   "name": "python",
   "nbconvert_exporter": "python",
   "pygments_lexer": "ipython3",
   "version": "3.8.8"
  }
 },
 "nbformat": 4,
 "nbformat_minor": 4
}
