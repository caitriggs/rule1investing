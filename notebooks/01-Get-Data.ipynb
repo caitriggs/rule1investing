{
 "cells": [
  {
   "cell_type": "code",
   "execution_count": 16,
   "metadata": {},
   "outputs": [],
   "source": [
    "import json\n",
    "import requests\n",
    "\n",
    "from azureml.core.authentication import ServicePrincipalAuthentication\n",
    "from azureml.core import Workspace\n",
    "from azure.storage.blob import BlobServiceClient "
   ]
  },
  {
   "cell_type": "markdown",
   "metadata": {},
   "source": [
    "# Connect to Azure ML Workspace\n",
    "using our `azure-ml-adls` service principal"
   ]
  },
  {
   "cell_type": "code",
   "execution_count": 17,
   "metadata": {},
   "outputs": [
    {
     "name": "stdout",
     "output_type": "stream",
     "text": [
      "Found workspace cait-projects at location westus2\n"
     ]
    }
   ],
   "source": [
    "# import credentials saved in a local only file \n",
    "#    (can also use Azure Key Vault or environment variables for secure keys)\n",
    "with open('./config.json') as f:\n",
    "    creds = json.load(f)\n",
    "\n",
    "svc_pr = ServicePrincipalAuthentication(\n",
    "    tenant_id=creds['service_principal_tenant_id'],\n",
    "    service_principal_id=creds['service_principal_app_id'],\n",
    "    service_principal_password=creds['service_principal_password'])\n",
    "\n",
    "ws = Workspace(\n",
    "    subscription_id=creds['workspace_subscription_id'],\n",
    "    resource_group=creds['workspace_resource_group'],\n",
    "    workspace_name=creds['workspace_name'],\n",
    "    auth=svc_pr # authorize connection using service principal\n",
    "    )\n",
    "\n",
    "# storage account connection string\n",
    "storage_connect_str = creds['storage_connection_key']\n",
    "\n",
    "print(\"Found workspace {} at location {}\".format(ws.name, ws.location))"
   ]
  },
  {
   "cell_type": "markdown",
   "metadata": {},
   "source": [
    "# Get data\n",
    "In order to calculate the 4 Big Growth Rates, we'll pull the necessary data from the company's 10K using [Financial Modeling Prep's API](https://financialmodelingprep.com/developer/docs) and upload it to our azure blob storage container we created in the [Azure Portal](https://portal.azure.com/) called \"financial-data\""
   ]
  },
  {
   "cell_type": "code",
   "execution_count": 19,
   "metadata": {},
   "outputs": [],
   "source": [
    "company_tickers = ['DPZ','ALK','MAR','SONY','GME','JNJ']"
   ]
  },
  {
   "cell_type": "code",
   "execution_count": 20,
   "metadata": {},
   "outputs": [],
   "source": [
    "def upload_blob(data, blob_name, connect_str): \n",
    "    blob_service_client = BlobServiceClient.from_connection_string(connect_str) \n",
    "    blob_client = blob_service_client.get_blob_client(container=\"financial-data\", blob=blob_name) \n",
    "    try: \n",
    "        # if file already exists, overwrite it with the new api response\n",
    "        blob_client.get_blob_properties() \n",
    "        blob_client.delete_blob() \n",
    "        blob_client.upload_blob(data)\n",
    "    except: \n",
    "        # otherwise just write the blob out to the container\n",
    "        blob_client.upload_blob(data)"
   ]
  },
  {
   "cell_type": "code",
   "execution_count": 21,
   "metadata": {},
   "outputs": [],
   "source": [
    "# for each company ticker in our list, get data and upload to our azure blob storage container 'financial-data'\n",
    "for company in company_tickers:\n",
    "    \n",
    "    # Company Profile\n",
    "    response = requests.get(\"https://financialmodelingprep.com/api/v3/profile/{}?apikey={}\".format(company, creds['fmp_api_key']))\n",
    "    if response.status_code == 200:\n",
    "        data = json.dumps(response.json())\n",
    "        upload_blob(data, \"company_profiles/company_profile_{}.json\".format(company), storage_connect_str)\n",
    "        \n",
    "    # Income Sheet Statement\n",
    "    response = requests.get(\"https://financialmodelingprep.com/api/v3/income-statement/{}?limit=5&apikey={}\".format(company, creds['fmp_api_key']))\n",
    "    if response.status_code == 200:\n",
    "        data = json.dumps(response.json())\n",
    "        upload_blob(data, \"income_sheets/income_sheet_5years_{}.json\".format(company), storage_connect_str)\n",
    "        \n",
    "    # Balance Sheet Statement\n",
    "    response = requests.get(\"https://financialmodelingprep.com/api/v3/balance-sheet-statement/{}?limit=5&apikey={}\".format(company, creds['fmp_api_key']))\n",
    "    if response.status_code == 200:\n",
    "        data = json.dumps(response.json())\n",
    "        upload_blob(data, \"balance_sheets/balance_sheet_5years_{}.json\".format(company), storage_connect_str)\n",
    "        \n",
    "    # Cash Flow Statement\n",
    "    response = requests.get(\"https://financialmodelingprep.com/api/v3/cash-flow-statement/{}?limit=5&apikey={}\".format(company, creds['fmp_api_key']))\n",
    "    if response.status_code == 200:\n",
    "        data = json.dumps(response.json())\n",
    "        upload_blob(data, \"cash_flow/cash_flow_5years_{}.json\".format(company), storage_connect_str)        \n",
    "        "
   ]
  },
  {
   "cell_type": "code",
   "execution_count": null,
   "metadata": {},
   "outputs": [],
   "source": []
  }
 ],
 "metadata": {
  "kernelspec": {
   "display_name": "Python [conda env:rule1investing]",
   "language": "python",
   "name": "conda-env-rule1investing-py"
  },
  "language_info": {
   "codemirror_mode": {
    "name": "ipython",
    "version": 3
   },
   "file_extension": ".py",
   "mimetype": "text/x-python",
   "name": "python",
   "nbconvert_exporter": "python",
   "pygments_lexer": "ipython3",
   "version": "3.8.8"
  }
 },
 "nbformat": 4,
 "nbformat_minor": 4
}
